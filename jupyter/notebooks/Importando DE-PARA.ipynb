{
 "cells": [
  {
   "cell_type": "code",
   "execution_count": 6,
   "id": "849df534",
   "metadata": {},
   "outputs": [],
   "source": [
    "import sys\n",
    "sys.path.append(\"/code/src/genesis/\")\n",
    "import django\n",
    "django.setup()"
   ]
  },
  {
   "cell_type": "code",
   "execution_count": 7,
   "id": "85cfea8b",
   "metadata": {},
   "outputs": [],
   "source": [
    "from products.models import OnixProduct, CompanyProduct\n",
    "from comercial.models import Company\n",
    "import json"
   ]
  },
  {
   "cell_type": "code",
   "execution_count": 14,
   "id": "61cd815b",
   "metadata": {},
   "outputs": [],
   "source": [
    "with open(\"depara.json\", encoding=\"utf-8-sig\") as open_file:\n",
    "    depara = json.load(open_file)\n",
    "    \n",
    "    onix_products = OnixProduct.objects.all()\n",
    "    companies = Company.objects.all()\n",
    "    \n",
    "    for item in depara:\n",
    "        try:\n",
    "            id_onix = int(item[\"onix\"])\n",
    "            onix = onix_products.get(id=id_onix)\n",
    "\n",
    "            company = companies.filter(code_sap=item[\"code_sap\"]).first()\n",
    "\n",
    "            CompanyProduct(\n",
    "                onix=onix,\n",
    "                company=company,\n",
    "                code=item.get(\"sku\"),\n",
    "                description=item.get(\"description\")\n",
    "            ).save()\n",
    "        except:\n",
    "            pass\n",
    "        "
   ]
  },
  {
   "cell_type": "code",
   "execution_count": null,
   "id": "ac4ce949",
   "metadata": {},
   "outputs": [],
   "source": []
  }
 ],
 "metadata": {
  "kernelspec": {
   "display_name": "Python 3 (ipykernel)",
   "language": "python",
   "name": "python3"
  },
  "language_info": {
   "codemirror_mode": {
    "name": "ipython",
    "version": 3
   },
   "file_extension": ".py",
   "mimetype": "text/x-python",
   "name": "python",
   "nbconvert_exporter": "python",
   "pygments_lexer": "ipython3",
   "version": "3.7.9"
  }
 },
 "nbformat": 4,
 "nbformat_minor": 5
}
